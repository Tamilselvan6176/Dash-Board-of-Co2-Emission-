{
 "cells": [
  {
   "cell_type": "code",
   "execution_count": 1,
   "id": "504fda73",
   "metadata": {},
   "outputs": [
    {
     "name": "stderr",
     "output_type": "stream",
     "text": [
      "C:\\Users\\NANDHU\\AppData\\Local\\Temp\\ipykernel_11184\\4276648447.py:3: UserWarning: \n",
      "The dash_core_components package is deprecated. Please replace\n",
      "`import dash_core_components as dcc` with `from dash import dcc`\n",
      "  import dash_core_components as dcc\n",
      "C:\\Users\\NANDHU\\AppData\\Local\\Temp\\ipykernel_11184\\4276648447.py:4: UserWarning: \n",
      "The dash_html_components package is deprecated. Please replace\n",
      "`import dash_html_components as html` with `from dash import html`\n",
      "  import dash_html_components as html\n"
     ]
    }
   ],
   "source": [
    "from jupyter_dash import JupyterDash\n",
    "import dash\n",
    "import dash_core_components as dcc\n",
    "import dash_html_components as html\n",
    "import matplotlib.pyplot as plt\n",
    "import seaborn as sns\n",
    "import plotly.express as px\n",
    "import plotly.graph_objs as go\n",
    "from plotly.subplots import make_subplots"
   ]
  },
  {
   "cell_type": "code",
   "execution_count": 2,
   "id": "68f7b317",
   "metadata": {},
   "outputs": [],
   "source": [
    "import numpy as np\n",
    "import pandas as pd"
   ]
  },
  {
   "cell_type": "code",
   "execution_count": null,
   "id": "ee231112",
   "metadata": {},
   "outputs": [],
   "source": [
    "\n",
    "\n",
    "\n",
    "\n",
    "\n",
    "\n",
    "\n"
   ]
  },
  {
   "cell_type": "code",
   "execution_count": null,
   "id": "ecf7633c",
   "metadata": {},
   "outputs": [],
   "source": []
  },
  {
   "cell_type": "code",
   "execution_count": 142,
   "id": "df8e5d82",
   "metadata": {},
   "outputs": [],
   "source": [
    "import pandas as pd\n",
    "import plotly.express as px\n",
    "import dash\n",
    "import dash_core_components as dcc\n",
    "import dash_html_components as html\n",
    "from dash.dependencies import Input, Output\n",
    "import matplotlib.pyplot as plt\n",
    "import seaborn as sns\n",
    "from jupyter_dash import JupyterDash\n",
    "\n",
    "# Load data\n",
    "df = pd.read_csv('CO2 Emissions_Canada.csv')\n",
    "\n",
    "\n",
    "# Create app\n",
    "app = dash.Dash(__name__)\n",
    "\n",
    "colors = {\n",
    "    'background': '#111111',\n",
    "    'text': '#7FDBFF'\n",
    "}\n",
    "\n",
    "# Define app layout\n",
    "app.layout = html.Div([\n",
    "    html.H1('** INTERACTIVE DASHBOARD FOR CO2 EMISSION BASED ON CAR MODELS **',\n",
    "           \n",
    "           style={ 'textAlign': 'center','color': '#f5fffa','backgroundColor':'\t#20b2aa', 'border-style' : \"dotted\" }\n",
    "            ),\n",
    "    \n",
    "    html.Div ( [\n",
    "        html.H2('Interactive Bar Chart for Fuel Consumption Hwy (L/100 km)  ',style={'textAlign': 'center','color': colors['text'] }\n",
    "               ),\n",
    "        \n",
    "        dcc.Dropdown(\n",
    "        id='category-dropdown',\n",
    "        options=[{'label':Make, 'value': Make} for Make in df['Make'].unique()],\n",
    "        value=df['Make'].unique()[0]\n",
    "    ),\n",
    "        dcc.Graph(id='bar-plot'), \n",
    "    \n",
    "    ],style = {'margin-right': 870 ,'margin-bottom': 70, 'padding': 10,'backgroundColor':'#191970', 'border-style' : \"dotted\",'title' : 'Bar chart'}),\n",
    "    \n",
    "\n",
    "    \n",
    "html.Div(children=[ html.H2(children='Interactive Histogram plot for CO2 Emissions(g/km) ',\n",
    "           style={\n",
    "        'textAlign': 'center',\n",
    "        'color': colors['text']\n",
    "    }\n",
    "           \n",
    "           ),\n",
    "\n",
    "    dcc.Graph(\n",
    "        id='histogram',\n",
    "        figure={\n",
    "            'data': [\n",
    "                {\n",
    "                    'y': df['CO2 Emissions(g/km)'],\n",
    "                    '`type': 'histogram',\n",
    "                    \n",
    "                }\n",
    "                \n",
    "            ],\n",
    "            'layout': {\n",
    "                'title': 'Histogram',\n",
    "                 'yaxis' : {'title' : 'CO2 Emissions(g/km)'},\n",
    "                 'xaxis' : {'title' : 'count'}\n",
    "               \n",
    "            }\n",
    "        }\n",
    "    \n",
    "    \n",
    "    )],style = { 'margin-left' : 870 ,'padding': 10,'margin-top' : -630 ,'backgroundColor':'#191970', 'border-style' : \"dotted\", 'padding': 10}),\n",
    "     \n",
    "    html.Div( children= [  html.H2(children='Interactive Box Plot for Average CO2 Emissions(g/km) ',\n",
    "           style={\n",
    "        'textAlign': 'center',\n",
    "        'color': colors['text']\n",
    "    } \n",
    "                                  ),   \n",
    "    \n",
    "        dcc.Graph(\n",
    "        id='boxplot',\n",
    "        figure={\n",
    "            'data': [\n",
    "                {\n",
    "                    'y': df['CO2 Emissions(g/km)'],\n",
    "                    'type': 'box',\n",
    "                    'name': 'Co2 Emission (g/Km)'\n",
    "                },\n",
    "                {\n",
    "                    'y': df['Model'],\n",
    "                    'type': 'box',\n",
    "                    'name': 'Model'\n",
    "                },\n",
    "            ],\n",
    "            'layout': {\n",
    "                'title': 'Boxplot',\n",
    "           \n",
    "                \n",
    "            }\n",
    "        }\n",
    "    )\n",
    "        \n",
    "    ],style = { 'margin-top' : 30 ,'margin-right': 870,'backgroundColor':'#191970', 'border-style' : \"dotted\", 'padding': 10 }),\n",
    "    \n",
    "    \n",
    "    \n",
    "    html.Div([\n",
    "       html.H2('Interactive Scatter chart for Engine Size(L) based CO2 Emissions(g/km)  ',style={'textAlign': 'center','color': colors['text'] }\n",
    "               ),\n",
    "    \n",
    "    dcc.Graph(\n",
    "        id = 'Scatter_plot',\n",
    "        figure = px.scatter(df, x = 'Engine Size(L)', y = 'CO2 Emissions(g/km)',color='Make')\n",
    "                \n",
    "    \n",
    "    )],style = { 'margin-left' : 870 ,'margin-top' : -550, 'backgroundColor':'#191970','border-style' : \"dotted\", 'padding': 10}),\n",
    "    \n",
    "\n",
    "    \n",
    "    html.Div([\n",
    "        html.H2('Interactive Mosaic chart for model based Fuel Consumption City (L/100 km) ',style={'textAlign': 'center','color': colors['text'] }\n",
    "               ),\n",
    "        \n",
    "        dcc.Dropdown(\n",
    "        id='cat',\n",
    "        options=[{'label':Make, 'value': Make} for Make in df['Make'].unique()],\n",
    "        value=df['Make'].unique()[0]\n",
    "    ),\n",
    "        dcc.Graph(id = 'mosaicplot') \n",
    "    \n",
    "    ],style = {'margin-top':30, 'margin-right' : 150,'margin-left': 300,  'padding': 10, 'backgroundColor':'#191970', 'border-style' : \"dotted\"}),\n",
    "    \n",
    "   ],style = {'backgroundColor':'#708090'})  \n",
    "\n",
    "#'display': 'inline-block',\n",
    "# Define callback to update bar plot\n",
    "\n",
    "@app.callback(Output('bar-plot', 'figure'),\n",
    "              Input('category-dropdown', 'value'))\n",
    "def update_bar_plot(value):\n",
    "    filtered_df = df[df['Make'] == value]\n",
    "    fig = px.bar(filtered_df, x='Vehicle Class', y='Fuel Consumption Hwy (L/100 km)')\n",
    "    fig.update_layout(title='BAR CHART')\n",
    "    fig.show()\n",
    "    \n",
    "    return fig\n",
    "\n",
    "\n",
    "@app.callback(\n",
    "    dash.dependencies.Output('mosaicplot', 'figure'),\n",
    "    [dash.dependencies.Input('cat', 'value')])\n",
    "def update_mosaic_plot(value):\n",
    "    filtered_df = df[df['Make'] == value]\n",
    "    fig = px.imshow(filtered_df.pivot_table(index='Fuel Consumption City (L/100 km)', columns='Make', values='CO2 Emissions(g/km)'),\n",
    "                     color_continuous_scale='oxy', title='Co2 Mosaic Plot')\n",
    "    return fig\n",
    "\n",
    "\n"
   ]
  },
  {
   "cell_type": "code",
   "execution_count": null,
   "id": "869f7552",
   "metadata": {},
   "outputs": [
    {
     "name": "stdout",
     "output_type": "stream",
     "text": [
      "Dash is running on http://127.0.0.1:8080/\n",
      "\n",
      " * Serving Flask app \"__main__\" (lazy loading)\n",
      " * Environment: production\n",
      "\u001b[31m   WARNING: This is a development server. Do not use it in a production deployment.\u001b[0m\n",
      "\u001b[2m   Use a production WSGI server instead.\u001b[0m\n",
      " * Debug mode: off\n"
     ]
    },
    {
     "name": "stderr",
     "output_type": "stream",
     "text": [
      " * Running on http://127.0.0.1:8080/ (Press CTRL+C to quit)\n",
      "127.0.0.1 - - [26/Mar/2023 11:35:33] \"GET / HTTP/1.1\" 200 -\n",
      "127.0.0.1 - - [26/Mar/2023 11:35:33] \"GET /_dash-layout HTTP/1.1\" 200 -\n",
      "127.0.0.1 - - [26/Mar/2023 11:35:33] \"GET /_dash-dependencies HTTP/1.1\" 200 -\n",
      "127.0.0.1 - - [26/Mar/2023 11:35:34] \"GET /_dash-component-suites/dash/dcc/async-dropdown.js HTTP/1.1\" 200 -\n",
      "127.0.0.1 - - [26/Mar/2023 11:35:34] \"GET /_dash-component-suites/dash/dcc/async-graph.js HTTP/1.1\" 200 -\n",
      "127.0.0.1 - - [26/Mar/2023 11:35:34] \"GET /_dash-component-suites/dash/dcc/async-plotlyjs.js HTTP/1.1\" 200 -\n",
      "127.0.0.1 - - [26/Mar/2023 11:35:34] \"POST /_dash-update-component HTTP/1.1\" 200 -\n"
     ]
    },
    {
     "data": {
      "application/vnd.plotly.v1+json": {
       "config": {
        "plotlyServerURL": "https://plot.ly"
       },
       "data": [
        {
         "alignmentgroup": "True",
         "hovertemplate": "Vehicle Class=%{x}<br>Fuel Consumption Hwy (L/100 km)=%{y}<extra></extra>",
         "legendgroup": "",
         "marker": {
          "color": "#636efa",
          "pattern": {
           "shape": ""
          }
         },
         "name": "",
         "offsetgroup": "",
         "orientation": "v",
         "showlegend": false,
         "textposition": "auto",
         "type": "bar",
         "x": [
          "COMPACT",
          "COMPACT",
          "COMPACT",
          "SUV - SMALL",
          "SUV - SMALL",
          "MID-SIZE",
          "MID-SIZE",
          "MID-SIZE",
          "MID-SIZE",
          "COMPACT",
          "COMPACT",
          "COMPACT",
          "COMPACT",
          "COMPACT",
          "COMPACT",
          "SUV - SMALL",
          "SUV - SMALL",
          "MID-SIZE",
          "MID-SIZE",
          "COMPACT",
          "COMPACT",
          "COMPACT",
          "COMPACT",
          "SUV - SMALL",
          "SUV - SMALL",
          "SUV - SMALL",
          "MID-SIZE",
          "MID-SIZE",
          "COMPACT",
          "COMPACT",
          "COMPACT",
          "SUV - SMALL",
          "SUV - SMALL",
          "SUV - SMALL",
          "TWO-SEATER",
          "SUV - SMALL",
          "MID-SIZE",
          "COMPACT",
          "COMPACT",
          "COMPACT",
          "SUV - SMALL",
          "SUV - SMALL",
          "SUV - SMALL",
          "TWO-SEATER",
          "SUV - SMALL",
          "MID-SIZE",
          "COMPACT",
          "COMPACT",
          "COMPACT",
          "COMPACT",
          "COMPACT",
          "SUV - SMALL",
          "SUV - SMALL",
          "SUV - SMALL",
          "TWO-SEATER",
          "SUV - SMALL",
          "SUV - SMALL",
          "MID-SIZE",
          "COMPACT",
          "COMPACT",
          "COMPACT",
          "COMPACT",
          "COMPACT",
          "SUV - SMALL",
          "SUV - SMALL",
          "SUV - SMALL",
          "SUV - SMALL",
          "SUV - SMALL",
          "MID-SIZE",
          "COMPACT",
          "COMPACT",
          "COMPACT"
         ],
         "xaxis": "x",
         "y": [
          6.7,
          7.7,
          5.8,
          9.1,
          8.7,
          7.7,
          8.1,
          9,
          9.5,
          7.5,
          8.1,
          8.3,
          6.7,
          7.4,
          6.1,
          9.1,
          8.7,
          7.7,
          7.5,
          6.6,
          6.9,
          7.5,
          6.6,
          9.1,
          9.1,
          8.6,
          7.7,
          7.5,
          6.6,
          7.5,
          6.8,
          9,
          9,
          9,
          10.8,
          8.7,
          7.8,
          6.6,
          7.5,
          6.8,
          9,
          9,
          9,
          10.8,
          8.7,
          8.2,
          7.1,
          7.4,
          7.7,
          8.2,
          7,
          9,
          9.5,
          9,
          10.8,
          8.6,
          9.1,
          8.2,
          7.1,
          7.4,
          7.7,
          8.2,
          7,
          9.2,
          9.5,
          9,
          8.6,
          9.1,
          8.2,
          7.4,
          7.7,
          8.2
         ],
         "yaxis": "y"
        }
       ],
       "layout": {
        "barmode": "relative",
        "legend": {
         "tracegroupgap": 0
        },
        "margin": {
         "t": 60
        },
        "template": {
         "data": {
          "bar": [
           {
            "error_x": {
             "color": "#2a3f5f"
            },
            "error_y": {
             "color": "#2a3f5f"
            },
            "marker": {
             "line": {
              "color": "#E5ECF6",
              "width": 0.5
             },
             "pattern": {
              "fillmode": "overlay",
              "size": 10,
              "solidity": 0.2
             }
            },
            "type": "bar"
           }
          ],
          "barpolar": [
           {
            "marker": {
             "line": {
              "color": "#E5ECF6",
              "width": 0.5
             },
             "pattern": {
              "fillmode": "overlay",
              "size": 10,
              "solidity": 0.2
             }
            },
            "type": "barpolar"
           }
          ],
          "carpet": [
           {
            "aaxis": {
             "endlinecolor": "#2a3f5f",
             "gridcolor": "white",
             "linecolor": "white",
             "minorgridcolor": "white",
             "startlinecolor": "#2a3f5f"
            },
            "baxis": {
             "endlinecolor": "#2a3f5f",
             "gridcolor": "white",
             "linecolor": "white",
             "minorgridcolor": "white",
             "startlinecolor": "#2a3f5f"
            },
            "type": "carpet"
           }
          ],
          "choropleth": [
           {
            "colorbar": {
             "outlinewidth": 0,
             "ticks": ""
            },
            "type": "choropleth"
           }
          ],
          "contour": [
           {
            "colorbar": {
             "outlinewidth": 0,
             "ticks": ""
            },
            "colorscale": [
             [
              0,
              "#0d0887"
             ],
             [
              0.1111111111111111,
              "#46039f"
             ],
             [
              0.2222222222222222,
              "#7201a8"
             ],
             [
              0.3333333333333333,
              "#9c179e"
             ],
             [
              0.4444444444444444,
              "#bd3786"
             ],
             [
              0.5555555555555556,
              "#d8576b"
             ],
             [
              0.6666666666666666,
              "#ed7953"
             ],
             [
              0.7777777777777778,
              "#fb9f3a"
             ],
             [
              0.8888888888888888,
              "#fdca26"
             ],
             [
              1,
              "#f0f921"
             ]
            ],
            "type": "contour"
           }
          ],
          "contourcarpet": [
           {
            "colorbar": {
             "outlinewidth": 0,
             "ticks": ""
            },
            "type": "contourcarpet"
           }
          ],
          "heatmap": [
           {
            "colorbar": {
             "outlinewidth": 0,
             "ticks": ""
            },
            "colorscale": [
             [
              0,
              "#0d0887"
             ],
             [
              0.1111111111111111,
              "#46039f"
             ],
             [
              0.2222222222222222,
              "#7201a8"
             ],
             [
              0.3333333333333333,
              "#9c179e"
             ],
             [
              0.4444444444444444,
              "#bd3786"
             ],
             [
              0.5555555555555556,
              "#d8576b"
             ],
             [
              0.6666666666666666,
              "#ed7953"
             ],
             [
              0.7777777777777778,
              "#fb9f3a"
             ],
             [
              0.8888888888888888,
              "#fdca26"
             ],
             [
              1,
              "#f0f921"
             ]
            ],
            "type": "heatmap"
           }
          ],
          "heatmapgl": [
           {
            "colorbar": {
             "outlinewidth": 0,
             "ticks": ""
            },
            "colorscale": [
             [
              0,
              "#0d0887"
             ],
             [
              0.1111111111111111,
              "#46039f"
             ],
             [
              0.2222222222222222,
              "#7201a8"
             ],
             [
              0.3333333333333333,
              "#9c179e"
             ],
             [
              0.4444444444444444,
              "#bd3786"
             ],
             [
              0.5555555555555556,
              "#d8576b"
             ],
             [
              0.6666666666666666,
              "#ed7953"
             ],
             [
              0.7777777777777778,
              "#fb9f3a"
             ],
             [
              0.8888888888888888,
              "#fdca26"
             ],
             [
              1,
              "#f0f921"
             ]
            ],
            "type": "heatmapgl"
           }
          ],
          "histogram": [
           {
            "marker": {
             "pattern": {
              "fillmode": "overlay",
              "size": 10,
              "solidity": 0.2
             }
            },
            "type": "histogram"
           }
          ],
          "histogram2d": [
           {
            "colorbar": {
             "outlinewidth": 0,
             "ticks": ""
            },
            "colorscale": [
             [
              0,
              "#0d0887"
             ],
             [
              0.1111111111111111,
              "#46039f"
             ],
             [
              0.2222222222222222,
              "#7201a8"
             ],
             [
              0.3333333333333333,
              "#9c179e"
             ],
             [
              0.4444444444444444,
              "#bd3786"
             ],
             [
              0.5555555555555556,
              "#d8576b"
             ],
             [
              0.6666666666666666,
              "#ed7953"
             ],
             [
              0.7777777777777778,
              "#fb9f3a"
             ],
             [
              0.8888888888888888,
              "#fdca26"
             ],
             [
              1,
              "#f0f921"
             ]
            ],
            "type": "histogram2d"
           }
          ],
          "histogram2dcontour": [
           {
            "colorbar": {
             "outlinewidth": 0,
             "ticks": ""
            },
            "colorscale": [
             [
              0,
              "#0d0887"
             ],
             [
              0.1111111111111111,
              "#46039f"
             ],
             [
              0.2222222222222222,
              "#7201a8"
             ],
             [
              0.3333333333333333,
              "#9c179e"
             ],
             [
              0.4444444444444444,
              "#bd3786"
             ],
             [
              0.5555555555555556,
              "#d8576b"
             ],
             [
              0.6666666666666666,
              "#ed7953"
             ],
             [
              0.7777777777777778,
              "#fb9f3a"
             ],
             [
              0.8888888888888888,
              "#fdca26"
             ],
             [
              1,
              "#f0f921"
             ]
            ],
            "type": "histogram2dcontour"
           }
          ],
          "mesh3d": [
           {
            "colorbar": {
             "outlinewidth": 0,
             "ticks": ""
            },
            "type": "mesh3d"
           }
          ],
          "parcoords": [
           {
            "line": {
             "colorbar": {
              "outlinewidth": 0,
              "ticks": ""
             }
            },
            "type": "parcoords"
           }
          ],
          "pie": [
           {
            "automargin": true,
            "type": "pie"
           }
          ],
          "scatter": [
           {
            "fillpattern": {
             "fillmode": "overlay",
             "size": 10,
             "solidity": 0.2
            },
            "type": "scatter"
           }
          ],
          "scatter3d": [
           {
            "line": {
             "colorbar": {
              "outlinewidth": 0,
              "ticks": ""
             }
            },
            "marker": {
             "colorbar": {
              "outlinewidth": 0,
              "ticks": ""
             }
            },
            "type": "scatter3d"
           }
          ],
          "scattercarpet": [
           {
            "marker": {
             "colorbar": {
              "outlinewidth": 0,
              "ticks": ""
             }
            },
            "type": "scattercarpet"
           }
          ],
          "scattergeo": [
           {
            "marker": {
             "colorbar": {
              "outlinewidth": 0,
              "ticks": ""
             }
            },
            "type": "scattergeo"
           }
          ],
          "scattergl": [
           {
            "marker": {
             "colorbar": {
              "outlinewidth": 0,
              "ticks": ""
             }
            },
            "type": "scattergl"
           }
          ],
          "scattermapbox": [
           {
            "marker": {
             "colorbar": {
              "outlinewidth": 0,
              "ticks": ""
             }
            },
            "type": "scattermapbox"
           }
          ],
          "scatterpolar": [
           {
            "marker": {
             "colorbar": {
              "outlinewidth": 0,
              "ticks": ""
             }
            },
            "type": "scatterpolar"
           }
          ],
          "scatterpolargl": [
           {
            "marker": {
             "colorbar": {
              "outlinewidth": 0,
              "ticks": ""
             }
            },
            "type": "scatterpolargl"
           }
          ],
          "scatterternary": [
           {
            "marker": {
             "colorbar": {
              "outlinewidth": 0,
              "ticks": ""
             }
            },
            "type": "scatterternary"
           }
          ],
          "surface": [
           {
            "colorbar": {
             "outlinewidth": 0,
             "ticks": ""
            },
            "colorscale": [
             [
              0,
              "#0d0887"
             ],
             [
              0.1111111111111111,
              "#46039f"
             ],
             [
              0.2222222222222222,
              "#7201a8"
             ],
             [
              0.3333333333333333,
              "#9c179e"
             ],
             [
              0.4444444444444444,
              "#bd3786"
             ],
             [
              0.5555555555555556,
              "#d8576b"
             ],
             [
              0.6666666666666666,
              "#ed7953"
             ],
             [
              0.7777777777777778,
              "#fb9f3a"
             ],
             [
              0.8888888888888888,
              "#fdca26"
             ],
             [
              1,
              "#f0f921"
             ]
            ],
            "type": "surface"
           }
          ],
          "table": [
           {
            "cells": {
             "fill": {
              "color": "#EBF0F8"
             },
             "line": {
              "color": "white"
             }
            },
            "header": {
             "fill": {
              "color": "#C8D4E3"
             },
             "line": {
              "color": "white"
             }
            },
            "type": "table"
           }
          ]
         },
         "layout": {
          "annotationdefaults": {
           "arrowcolor": "#2a3f5f",
           "arrowhead": 0,
           "arrowwidth": 1
          },
          "autotypenumbers": "strict",
          "coloraxis": {
           "colorbar": {
            "outlinewidth": 0,
            "ticks": ""
           }
          },
          "colorscale": {
           "diverging": [
            [
             0,
             "#8e0152"
            ],
            [
             0.1,
             "#c51b7d"
            ],
            [
             0.2,
             "#de77ae"
            ],
            [
             0.3,
             "#f1b6da"
            ],
            [
             0.4,
             "#fde0ef"
            ],
            [
             0.5,
             "#f7f7f7"
            ],
            [
             0.6,
             "#e6f5d0"
            ],
            [
             0.7,
             "#b8e186"
            ],
            [
             0.8,
             "#7fbc41"
            ],
            [
             0.9,
             "#4d9221"
            ],
            [
             1,
             "#276419"
            ]
           ],
           "sequential": [
            [
             0,
             "#0d0887"
            ],
            [
             0.1111111111111111,
             "#46039f"
            ],
            [
             0.2222222222222222,
             "#7201a8"
            ],
            [
             0.3333333333333333,
             "#9c179e"
            ],
            [
             0.4444444444444444,
             "#bd3786"
            ],
            [
             0.5555555555555556,
             "#d8576b"
            ],
            [
             0.6666666666666666,
             "#ed7953"
            ],
            [
             0.7777777777777778,
             "#fb9f3a"
            ],
            [
             0.8888888888888888,
             "#fdca26"
            ],
            [
             1,
             "#f0f921"
            ]
           ],
           "sequentialminus": [
            [
             0,
             "#0d0887"
            ],
            [
             0.1111111111111111,
             "#46039f"
            ],
            [
             0.2222222222222222,
             "#7201a8"
            ],
            [
             0.3333333333333333,
             "#9c179e"
            ],
            [
             0.4444444444444444,
             "#bd3786"
            ],
            [
             0.5555555555555556,
             "#d8576b"
            ],
            [
             0.6666666666666666,
             "#ed7953"
            ],
            [
             0.7777777777777778,
             "#fb9f3a"
            ],
            [
             0.8888888888888888,
             "#fdca26"
            ],
            [
             1,
             "#f0f921"
            ]
           ]
          },
          "colorway": [
           "#636efa",
           "#EF553B",
           "#00cc96",
           "#ab63fa",
           "#FFA15A",
           "#19d3f3",
           "#FF6692",
           "#B6E880",
           "#FF97FF",
           "#FECB52"
          ],
          "font": {
           "color": "#2a3f5f"
          },
          "geo": {
           "bgcolor": "white",
           "lakecolor": "white",
           "landcolor": "#E5ECF6",
           "showlakes": true,
           "showland": true,
           "subunitcolor": "white"
          },
          "hoverlabel": {
           "align": "left"
          },
          "hovermode": "closest",
          "mapbox": {
           "style": "light"
          },
          "paper_bgcolor": "white",
          "plot_bgcolor": "#E5ECF6",
          "polar": {
           "angularaxis": {
            "gridcolor": "white",
            "linecolor": "white",
            "ticks": ""
           },
           "bgcolor": "#E5ECF6",
           "radialaxis": {
            "gridcolor": "white",
            "linecolor": "white",
            "ticks": ""
           }
          },
          "scene": {
           "xaxis": {
            "backgroundcolor": "#E5ECF6",
            "gridcolor": "white",
            "gridwidth": 2,
            "linecolor": "white",
            "showbackground": true,
            "ticks": "",
            "zerolinecolor": "white"
           },
           "yaxis": {
            "backgroundcolor": "#E5ECF6",
            "gridcolor": "white",
            "gridwidth": 2,
            "linecolor": "white",
            "showbackground": true,
            "ticks": "",
            "zerolinecolor": "white"
           },
           "zaxis": {
            "backgroundcolor": "#E5ECF6",
            "gridcolor": "white",
            "gridwidth": 2,
            "linecolor": "white",
            "showbackground": true,
            "ticks": "",
            "zerolinecolor": "white"
           }
          },
          "shapedefaults": {
           "line": {
            "color": "#2a3f5f"
           }
          },
          "ternary": {
           "aaxis": {
            "gridcolor": "white",
            "linecolor": "white",
            "ticks": ""
           },
           "baxis": {
            "gridcolor": "white",
            "linecolor": "white",
            "ticks": ""
           },
           "bgcolor": "#E5ECF6",
           "caxis": {
            "gridcolor": "white",
            "linecolor": "white",
            "ticks": ""
           }
          },
          "title": {
           "x": 0.05
          },
          "xaxis": {
           "automargin": true,
           "gridcolor": "white",
           "linecolor": "white",
           "ticks": "",
           "title": {
            "standoff": 15
           },
           "zerolinecolor": "white",
           "zerolinewidth": 2
          },
          "yaxis": {
           "automargin": true,
           "gridcolor": "white",
           "linecolor": "white",
           "ticks": "",
           "title": {
            "standoff": 15
           },
           "zerolinecolor": "white",
           "zerolinewidth": 2
          }
         }
        },
        "title": {
         "text": "BAR CHART"
        },
        "xaxis": {
         "anchor": "y",
         "domain": [
          0,
          1
         ],
         "title": {
          "text": "Vehicle Class"
         }
        },
        "yaxis": {
         "anchor": "x",
         "domain": [
          0,
          1
         ],
         "title": {
          "text": "Fuel Consumption Hwy (L/100 km)"
         }
        }
       }
      },
      "text/html": [
       "<div>                            <div id=\"51b3f8a0-7de0-4cca-aefb-c9f3bad055ec\" class=\"plotly-graph-div\" style=\"height:525px; width:100%;\"></div>            <script type=\"text/javascript\">                require([\"plotly\"], function(Plotly) {                    window.PLOTLYENV=window.PLOTLYENV || {};                                    if (document.getElementById(\"51b3f8a0-7de0-4cca-aefb-c9f3bad055ec\")) {                    Plotly.newPlot(                        \"51b3f8a0-7de0-4cca-aefb-c9f3bad055ec\",                        [{\"alignmentgroup\":\"True\",\"hovertemplate\":\"Vehicle Class=%{x}<br>Fuel Consumption Hwy (L/100 km)=%{y}<extra></extra>\",\"legendgroup\":\"\",\"marker\":{\"color\":\"#636efa\",\"pattern\":{\"shape\":\"\"}},\"name\":\"\",\"offsetgroup\":\"\",\"orientation\":\"v\",\"showlegend\":false,\"textposition\":\"auto\",\"x\":[\"COMPACT\",\"COMPACT\",\"COMPACT\",\"SUV - SMALL\",\"SUV - SMALL\",\"MID-SIZE\",\"MID-SIZE\",\"MID-SIZE\",\"MID-SIZE\",\"COMPACT\",\"COMPACT\",\"COMPACT\",\"COMPACT\",\"COMPACT\",\"COMPACT\",\"SUV - SMALL\",\"SUV - SMALL\",\"MID-SIZE\",\"MID-SIZE\",\"COMPACT\",\"COMPACT\",\"COMPACT\",\"COMPACT\",\"SUV - SMALL\",\"SUV - SMALL\",\"SUV - SMALL\",\"MID-SIZE\",\"MID-SIZE\",\"COMPACT\",\"COMPACT\",\"COMPACT\",\"SUV - SMALL\",\"SUV - SMALL\",\"SUV - SMALL\",\"TWO-SEATER\",\"SUV - SMALL\",\"MID-SIZE\",\"COMPACT\",\"COMPACT\",\"COMPACT\",\"SUV - SMALL\",\"SUV - SMALL\",\"SUV - SMALL\",\"TWO-SEATER\",\"SUV - SMALL\",\"MID-SIZE\",\"COMPACT\",\"COMPACT\",\"COMPACT\",\"COMPACT\",\"COMPACT\",\"SUV - SMALL\",\"SUV - SMALL\",\"SUV - SMALL\",\"TWO-SEATER\",\"SUV - SMALL\",\"SUV - SMALL\",\"MID-SIZE\",\"COMPACT\",\"COMPACT\",\"COMPACT\",\"COMPACT\",\"COMPACT\",\"SUV - SMALL\",\"SUV - SMALL\",\"SUV - SMALL\",\"SUV - SMALL\",\"SUV - SMALL\",\"MID-SIZE\",\"COMPACT\",\"COMPACT\",\"COMPACT\"],\"xaxis\":\"x\",\"y\":[6.7,7.7,5.8,9.1,8.7,7.7,8.1,9.0,9.5,7.5,8.1,8.3,6.7,7.4,6.1,9.1,8.7,7.7,7.5,6.6,6.9,7.5,6.6,9.1,9.1,8.6,7.7,7.5,6.6,7.5,6.8,9.0,9.0,9.0,10.8,8.7,7.8,6.6,7.5,6.8,9.0,9.0,9.0,10.8,8.7,8.2,7.1,7.4,7.7,8.2,7.0,9.0,9.5,9.0,10.8,8.6,9.1,8.2,7.1,7.4,7.7,8.2,7.0,9.2,9.5,9.0,8.6,9.1,8.2,7.4,7.7,8.2],\"yaxis\":\"y\",\"type\":\"bar\"}],                        {\"template\":{\"data\":{\"histogram2dcontour\":[{\"type\":\"histogram2dcontour\",\"colorbar\":{\"outlinewidth\":0,\"ticks\":\"\"},\"colorscale\":[[0.0,\"#0d0887\"],[0.1111111111111111,\"#46039f\"],[0.2222222222222222,\"#7201a8\"],[0.3333333333333333,\"#9c179e\"],[0.4444444444444444,\"#bd3786\"],[0.5555555555555556,\"#d8576b\"],[0.6666666666666666,\"#ed7953\"],[0.7777777777777778,\"#fb9f3a\"],[0.8888888888888888,\"#fdca26\"],[1.0,\"#f0f921\"]]}],\"choropleth\":[{\"type\":\"choropleth\",\"colorbar\":{\"outlinewidth\":0,\"ticks\":\"\"}}],\"histogram2d\":[{\"type\":\"histogram2d\",\"colorbar\":{\"outlinewidth\":0,\"ticks\":\"\"},\"colorscale\":[[0.0,\"#0d0887\"],[0.1111111111111111,\"#46039f\"],[0.2222222222222222,\"#7201a8\"],[0.3333333333333333,\"#9c179e\"],[0.4444444444444444,\"#bd3786\"],[0.5555555555555556,\"#d8576b\"],[0.6666666666666666,\"#ed7953\"],[0.7777777777777778,\"#fb9f3a\"],[0.8888888888888888,\"#fdca26\"],[1.0,\"#f0f921\"]]}],\"heatmap\":[{\"type\":\"heatmap\",\"colorbar\":{\"outlinewidth\":0,\"ticks\":\"\"},\"colorscale\":[[0.0,\"#0d0887\"],[0.1111111111111111,\"#46039f\"],[0.2222222222222222,\"#7201a8\"],[0.3333333333333333,\"#9c179e\"],[0.4444444444444444,\"#bd3786\"],[0.5555555555555556,\"#d8576b\"],[0.6666666666666666,\"#ed7953\"],[0.7777777777777778,\"#fb9f3a\"],[0.8888888888888888,\"#fdca26\"],[1.0,\"#f0f921\"]]}],\"heatmapgl\":[{\"type\":\"heatmapgl\",\"colorbar\":{\"outlinewidth\":0,\"ticks\":\"\"},\"colorscale\":[[0.0,\"#0d0887\"],[0.1111111111111111,\"#46039f\"],[0.2222222222222222,\"#7201a8\"],[0.3333333333333333,\"#9c179e\"],[0.4444444444444444,\"#bd3786\"],[0.5555555555555556,\"#d8576b\"],[0.6666666666666666,\"#ed7953\"],[0.7777777777777778,\"#fb9f3a\"],[0.8888888888888888,\"#fdca26\"],[1.0,\"#f0f921\"]]}],\"contourcarpet\":[{\"type\":\"contourcarpet\",\"colorbar\":{\"outlinewidth\":0,\"ticks\":\"\"}}],\"contour\":[{\"type\":\"contour\",\"colorbar\":{\"outlinewidth\":0,\"ticks\":\"\"},\"colorscale\":[[0.0,\"#0d0887\"],[0.1111111111111111,\"#46039f\"],[0.2222222222222222,\"#7201a8\"],[0.3333333333333333,\"#9c179e\"],[0.4444444444444444,\"#bd3786\"],[0.5555555555555556,\"#d8576b\"],[0.6666666666666666,\"#ed7953\"],[0.7777777777777778,\"#fb9f3a\"],[0.8888888888888888,\"#fdca26\"],[1.0,\"#f0f921\"]]}],\"surface\":[{\"type\":\"surface\",\"colorbar\":{\"outlinewidth\":0,\"ticks\":\"\"},\"colorscale\":[[0.0,\"#0d0887\"],[0.1111111111111111,\"#46039f\"],[0.2222222222222222,\"#7201a8\"],[0.3333333333333333,\"#9c179e\"],[0.4444444444444444,\"#bd3786\"],[0.5555555555555556,\"#d8576b\"],[0.6666666666666666,\"#ed7953\"],[0.7777777777777778,\"#fb9f3a\"],[0.8888888888888888,\"#fdca26\"],[1.0,\"#f0f921\"]]}],\"mesh3d\":[{\"type\":\"mesh3d\",\"colorbar\":{\"outlinewidth\":0,\"ticks\":\"\"}}],\"scatter\":[{\"fillpattern\":{\"fillmode\":\"overlay\",\"size\":10,\"solidity\":0.2},\"type\":\"scatter\"}],\"parcoords\":[{\"type\":\"parcoords\",\"line\":{\"colorbar\":{\"outlinewidth\":0,\"ticks\":\"\"}}}],\"scatterpolargl\":[{\"type\":\"scatterpolargl\",\"marker\":{\"colorbar\":{\"outlinewidth\":0,\"ticks\":\"\"}}}],\"bar\":[{\"error_x\":{\"color\":\"#2a3f5f\"},\"error_y\":{\"color\":\"#2a3f5f\"},\"marker\":{\"line\":{\"color\":\"#E5ECF6\",\"width\":0.5},\"pattern\":{\"fillmode\":\"overlay\",\"size\":10,\"solidity\":0.2}},\"type\":\"bar\"}],\"scattergeo\":[{\"type\":\"scattergeo\",\"marker\":{\"colorbar\":{\"outlinewidth\":0,\"ticks\":\"\"}}}],\"scatterpolar\":[{\"type\":\"scatterpolar\",\"marker\":{\"colorbar\":{\"outlinewidth\":0,\"ticks\":\"\"}}}],\"histogram\":[{\"marker\":{\"pattern\":{\"fillmode\":\"overlay\",\"size\":10,\"solidity\":0.2}},\"type\":\"histogram\"}],\"scattergl\":[{\"type\":\"scattergl\",\"marker\":{\"colorbar\":{\"outlinewidth\":0,\"ticks\":\"\"}}}],\"scatter3d\":[{\"type\":\"scatter3d\",\"line\":{\"colorbar\":{\"outlinewidth\":0,\"ticks\":\"\"}},\"marker\":{\"colorbar\":{\"outlinewidth\":0,\"ticks\":\"\"}}}],\"scattermapbox\":[{\"type\":\"scattermapbox\",\"marker\":{\"colorbar\":{\"outlinewidth\":0,\"ticks\":\"\"}}}],\"scatterternary\":[{\"type\":\"scatterternary\",\"marker\":{\"colorbar\":{\"outlinewidth\":0,\"ticks\":\"\"}}}],\"scattercarpet\":[{\"type\":\"scattercarpet\",\"marker\":{\"colorbar\":{\"outlinewidth\":0,\"ticks\":\"\"}}}],\"carpet\":[{\"aaxis\":{\"endlinecolor\":\"#2a3f5f\",\"gridcolor\":\"white\",\"linecolor\":\"white\",\"minorgridcolor\":\"white\",\"startlinecolor\":\"#2a3f5f\"},\"baxis\":{\"endlinecolor\":\"#2a3f5f\",\"gridcolor\":\"white\",\"linecolor\":\"white\",\"minorgridcolor\":\"white\",\"startlinecolor\":\"#2a3f5f\"},\"type\":\"carpet\"}],\"table\":[{\"cells\":{\"fill\":{\"color\":\"#EBF0F8\"},\"line\":{\"color\":\"white\"}},\"header\":{\"fill\":{\"color\":\"#C8D4E3\"},\"line\":{\"color\":\"white\"}},\"type\":\"table\"}],\"barpolar\":[{\"marker\":{\"line\":{\"color\":\"#E5ECF6\",\"width\":0.5},\"pattern\":{\"fillmode\":\"overlay\",\"size\":10,\"solidity\":0.2}},\"type\":\"barpolar\"}],\"pie\":[{\"automargin\":true,\"type\":\"pie\"}]},\"layout\":{\"autotypenumbers\":\"strict\",\"colorway\":[\"#636efa\",\"#EF553B\",\"#00cc96\",\"#ab63fa\",\"#FFA15A\",\"#19d3f3\",\"#FF6692\",\"#B6E880\",\"#FF97FF\",\"#FECB52\"],\"font\":{\"color\":\"#2a3f5f\"},\"hovermode\":\"closest\",\"hoverlabel\":{\"align\":\"left\"},\"paper_bgcolor\":\"white\",\"plot_bgcolor\":\"#E5ECF6\",\"polar\":{\"bgcolor\":\"#E5ECF6\",\"angularaxis\":{\"gridcolor\":\"white\",\"linecolor\":\"white\",\"ticks\":\"\"},\"radialaxis\":{\"gridcolor\":\"white\",\"linecolor\":\"white\",\"ticks\":\"\"}},\"ternary\":{\"bgcolor\":\"#E5ECF6\",\"aaxis\":{\"gridcolor\":\"white\",\"linecolor\":\"white\",\"ticks\":\"\"},\"baxis\":{\"gridcolor\":\"white\",\"linecolor\":\"white\",\"ticks\":\"\"},\"caxis\":{\"gridcolor\":\"white\",\"linecolor\":\"white\",\"ticks\":\"\"}},\"coloraxis\":{\"colorbar\":{\"outlinewidth\":0,\"ticks\":\"\"}},\"colorscale\":{\"sequential\":[[0.0,\"#0d0887\"],[0.1111111111111111,\"#46039f\"],[0.2222222222222222,\"#7201a8\"],[0.3333333333333333,\"#9c179e\"],[0.4444444444444444,\"#bd3786\"],[0.5555555555555556,\"#d8576b\"],[0.6666666666666666,\"#ed7953\"],[0.7777777777777778,\"#fb9f3a\"],[0.8888888888888888,\"#fdca26\"],[1.0,\"#f0f921\"]],\"sequentialminus\":[[0.0,\"#0d0887\"],[0.1111111111111111,\"#46039f\"],[0.2222222222222222,\"#7201a8\"],[0.3333333333333333,\"#9c179e\"],[0.4444444444444444,\"#bd3786\"],[0.5555555555555556,\"#d8576b\"],[0.6666666666666666,\"#ed7953\"],[0.7777777777777778,\"#fb9f3a\"],[0.8888888888888888,\"#fdca26\"],[1.0,\"#f0f921\"]],\"diverging\":[[0,\"#8e0152\"],[0.1,\"#c51b7d\"],[0.2,\"#de77ae\"],[0.3,\"#f1b6da\"],[0.4,\"#fde0ef\"],[0.5,\"#f7f7f7\"],[0.6,\"#e6f5d0\"],[0.7,\"#b8e186\"],[0.8,\"#7fbc41\"],[0.9,\"#4d9221\"],[1,\"#276419\"]]},\"xaxis\":{\"gridcolor\":\"white\",\"linecolor\":\"white\",\"ticks\":\"\",\"title\":{\"standoff\":15},\"zerolinecolor\":\"white\",\"automargin\":true,\"zerolinewidth\":2},\"yaxis\":{\"gridcolor\":\"white\",\"linecolor\":\"white\",\"ticks\":\"\",\"title\":{\"standoff\":15},\"zerolinecolor\":\"white\",\"automargin\":true,\"zerolinewidth\":2},\"scene\":{\"xaxis\":{\"backgroundcolor\":\"#E5ECF6\",\"gridcolor\":\"white\",\"linecolor\":\"white\",\"showbackground\":true,\"ticks\":\"\",\"zerolinecolor\":\"white\",\"gridwidth\":2},\"yaxis\":{\"backgroundcolor\":\"#E5ECF6\",\"gridcolor\":\"white\",\"linecolor\":\"white\",\"showbackground\":true,\"ticks\":\"\",\"zerolinecolor\":\"white\",\"gridwidth\":2},\"zaxis\":{\"backgroundcolor\":\"#E5ECF6\",\"gridcolor\":\"white\",\"linecolor\":\"white\",\"showbackground\":true,\"ticks\":\"\",\"zerolinecolor\":\"white\",\"gridwidth\":2}},\"shapedefaults\":{\"line\":{\"color\":\"#2a3f5f\"}},\"annotationdefaults\":{\"arrowcolor\":\"#2a3f5f\",\"arrowhead\":0,\"arrowwidth\":1},\"geo\":{\"bgcolor\":\"white\",\"landcolor\":\"#E5ECF6\",\"subunitcolor\":\"white\",\"showland\":true,\"showlakes\":true,\"lakecolor\":\"white\"},\"title\":{\"x\":0.05},\"mapbox\":{\"style\":\"light\"}}},\"xaxis\":{\"anchor\":\"y\",\"domain\":[0.0,1.0],\"title\":{\"text\":\"Vehicle Class\"}},\"yaxis\":{\"anchor\":\"x\",\"domain\":[0.0,1.0],\"title\":{\"text\":\"Fuel Consumption Hwy (L/100 km)\"}},\"legend\":{\"tracegroupgap\":0},\"margin\":{\"t\":60},\"barmode\":\"relative\",\"title\":{\"text\":\"BAR CHART\"}},                        {\"responsive\": true}                    ).then(function(){\n",
       "                            \n",
       "var gd = document.getElementById('51b3f8a0-7de0-4cca-aefb-c9f3bad055ec');\n",
       "var x = new MutationObserver(function (mutations, observer) {{\n",
       "        var display = window.getComputedStyle(gd).display;\n",
       "        if (!display || display === 'none') {{\n",
       "            console.log([gd, 'removed!']);\n",
       "            Plotly.purge(gd);\n",
       "            observer.disconnect();\n",
       "        }}\n",
       "}});\n",
       "\n",
       "// Listen for the removal of the full notebook cells\n",
       "var notebookContainer = gd.closest('#notebook-container');\n",
       "if (notebookContainer) {{\n",
       "    x.observe(notebookContainer, {childList: true});\n",
       "}}\n",
       "\n",
       "// Listen for the clearing of the current output cell\n",
       "var outputEl = gd.closest('.output');\n",
       "if (outputEl) {{\n",
       "    x.observe(outputEl, {childList: true});\n",
       "}}\n",
       "\n",
       "                        })                };                });            </script>        </div>"
      ]
     },
     "metadata": {},
     "output_type": "display_data"
    },
    {
     "name": "stderr",
     "output_type": "stream",
     "text": [
      "127.0.0.1 - - [26/Mar/2023 11:35:34] \"POST /_dash-update-component HTTP/1.1\" 200 -\n"
     ]
    }
   ],
   "source": [
    "if __name__ == '__main__':\n",
    "    app.run_server(port = 8080)"
   ]
  },
  {
   "cell_type": "markdown",
   "id": "59cdb578",
   "metadata": {},
   "source": [
    "# Define app\n",
    "app = dash.Dash(__name__)\n",
    "\n",
    "# Define layout\n",
    "app.layout = html.Div(children=[\n",
    "    html.H1(children='Interactive Histogram'),\n",
    "\n",
    "    html.Div(children='''\n",
    "        Dash: A web application framework for Python.\n",
    "    '''),\n",
    "\n",
    "    dcc.Graph(\n",
    "        id='histogram',\n",
    "        figure={\n",
    "            'df': [\n",
    "                go.Histogram(\n",
    "                    x=df['2000'],\n",
    "                    name='Histogram'\n",
    "                )\n",
    "            ],\n",
    "            'layout': go.Layout(\n",
    "                title='Histogram',\n",
    "                xaxis={'title': 'Values'},\n",
    "                yaxis={'title': 'Count'}\n",
    "            )\n",
    "        }\n",
    "    ),\n",
    "\n",
    "    html.Label('Select bin size:'),\n",
    "\n",
    "    dcc.Slider(\n",
    "        id='bin-slider',\n",
    "        min=1,\n",
    "        max=1000,\n",
    "        step=100,\n",
    "        value=5,\n",
    "        marks={i: str(i) for i in range(1, 11)}\n",
    "    )\n",
    "])\n",
    "\n",
    "# Define callback\n",
    "@app.callback(\n",
    "    dash.dependencies.Output('histogram', 'figure'),\n",
    "    [dash.dependencies.Input('bin-slider', 'Area')])\n",
    "def update_histogram(bin_size):\n",
    "    fig = {\n",
    "        'df': [\n",
    "            go.Histogram(\n",
    "                x=df['2000'],\n",
    "                name='Histogram',\n",
    "                xbins=dict(\n",
    "                    size=bin_size\n",
    "                )\n",
    "            )\n",
    "        ],\n",
    "        'layout': go.Layout(\n",
    "            title='Histogram',\n",
    "            xaxis={'title': 'Values'},\n",
    "            yaxis={'title': 'Count'}\n",
    "        )\n",
    "    }\n",
    "    return fig\n",
    "\n",
    "# Run app\n",
    "if __name__ == '__main__':\n",
    "    app.run_server(port = '8080')"
   ]
  },
  {
   "cell_type": "code",
   "execution_count": null,
   "id": "82ca493a",
   "metadata": {},
   "outputs": [],
   "source": []
  }
 ],
 "metadata": {
  "kernelspec": {
   "display_name": "Python 3 (ipykernel)",
   "language": "python",
   "name": "python3"
  },
  "language_info": {
   "codemirror_mode": {
    "name": "ipython",
    "version": 3
   },
   "file_extension": ".py",
   "mimetype": "text/x-python",
   "name": "python",
   "nbconvert_exporter": "python",
   "pygments_lexer": "ipython3",
   "version": "3.9.13"
  }
 },
 "nbformat": 4,
 "nbformat_minor": 5
}
